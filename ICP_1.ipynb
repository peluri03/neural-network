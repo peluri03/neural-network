{
  "nbformat": 4,
  "nbformat_minor": 0,
  "metadata": {
    "colab": {
      "provenance": []
    },
    "kernelspec": {
      "name": "python3",
      "display_name": "Python 3"
    },
    "language_info": {
      "name": "python"
    }
  },
  "cells": [
    {
      "cell_type": "code",
      "execution_count": 2,
      "metadata": {
        "colab": {
          "base_uri": "https://localhost:8080/"
        },
        "id": "ef1lVxDpnRJ6",
        "outputId": "9e04e803-5896-49b3-89dc-381c2396cf1c"
      },
      "outputs": [
        {
          "output_type": "stream",
          "name": "stdout",
          "text": [
            "Enter any string: python\n",
            "reversed string: noht\n"
          ]
        }
      ],
      "source": [
        "#string from user\n",
        "input_str = input(\"Enter any string: \")\n",
        "if len(input_str)<2:#checking string lengh\n",
        "  print(\"we should have atleast 2 characters in a string\")\n",
        "else:\n",
        "  updated_str = input_str[2:]#removing 2 characters from given string\n",
        "  reverse_str = updated_str[::-1]#reversing the string after removing 2 characters\n",
        "  print(\"reversed string:\", reverse_str)"
      ]
    },
    {
      "cell_type": "code",
      "source": [
        "input_sentence = input(\"Enter a sentence: \")#taking input from user\n",
        "modified_sentence = input_sentence.replace('python', 'pythons')#replacing python with pythons in given input\n",
        "print(\"modified sentence: \", modified_sentence)"
      ],
      "metadata": {
        "colab": {
          "base_uri": "https://localhost:8080/"
        },
        "id": "JW_RlsI0p98Z",
        "outputId": "557ab568-2d4b-429f-9135-eea5f185ae52"
      },
      "execution_count": 3,
      "outputs": [
        {
          "output_type": "stream",
          "name": "stdout",
          "text": [
            "Enter a sentence: i love playing with python\n",
            "modified sentence:  i love playing with pythons\n"
          ]
        }
      ]
    },
    {
      "cell_type": "code",
      "source": [
        "score = int(input(\"Enter a class score: \"))#entering class score\n",
        "if(score>=90):#checking the score and giving the grade\n",
        "  print(\"A\")\n",
        "elif(score>=80 and score<90):\n",
        "  print(\"B\")\n",
        "elif(score>=70 and score<80):\n",
        "  print(\"C\")\n",
        "elif(score>=60 and score<70):\n",
        "  print(\"D\")\n",
        "else:\n",
        "  print(\"F\")\n"
      ],
      "metadata": {
        "colab": {
          "base_uri": "https://localhost:8080/"
        },
        "id": "RlW8AbLbrK4s",
        "outputId": "8172b06c-13a7-4c26-9c4e-ea0a54407f7a"
      },
      "execution_count": 6,
      "outputs": [
        {
          "output_type": "stream",
          "name": "stdout",
          "text": [
            "Enter a class score: 78\n",
            "C\n"
          ]
        }
      ]
    }
  ]
}